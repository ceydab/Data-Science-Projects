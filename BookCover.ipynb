{
 "cells": [
  {
   "metadata": {},
   "cell_type": "markdown",
   "source": [
    "# Book Cover\n",
    "This project aims to look into booklists on goodreads on book cover colors and see if there is any correlation\n",
    "between cover color and reading number, genre, rate. To do this, the project uses the below linked lists and scraps\n",
    "information about a hundred books on each list to create a table on title, author, rating number, rate, color.\n",
    "Once the table is completed, the aim is to compare the data and see which color is preferred the most by checking\n",
    "the rating number and rate by taking the mean value. BookInfo will create a database including said columns. Compare \n",
    "will use pandas to compare the values.\n",
    "\n",
    "Blue = \"https://www.goodreads.com/list/show/15500.In_Love_With_BLUE_Covers_\"\n",
    "\n",
    "Red = \"https://www.goodreads.com/list/show/2959.Seeing_Red\"\n",
    "\n",
    "Black = \"https://www.goodreads.com/list/show/2973.Great_Books_with_BLACK_Covers\"\n",
    "\n",
    "Yellow = \"https://www.goodreads.com/list/show/2784.Yellowest_Books_Ever\"\n",
    "\n",
    "Green = \"https://www.goodreads.com/list/show/2948.Greenest_Books_Ever\"\n",
    "\n",
    "White = \"https://www.goodreads.com/list/show/3056.White_as_the_Driven_Snow\"\n",
    "\n",
    "Pink = \"https://www.goodreads.com/list/show/2958.In_the_Pink\" \n",
    "\n",
    "Purple = \"https://www.goodreads.com/list/show/2922.The_Color_Purple\"\n",
    "\n",
    "Gray = \"https://www.goodreads.com/list/show/2977.Grey_Daze\"\n",
    "\n",
    "\n",
    "We start by importing the necessary libraries.\n",
    "\n",
    "Then, we create two classes the obtain the necessary information, and perform necessary actions."
   ],
   "id": "218f0287edb1535e"
  },
  {
   "cell_type": "code",
   "id": "initial_id",
   "metadata": {
    "collapsed": true,
    "ExecuteTime": {
     "end_time": "2024-05-26T22:43:50.792860Z",
     "start_time": "2024-05-26T22:43:45.253870Z"
    }
   },
   "source": [
    "from bs4 import BeautifulSoup\n",
    "import requests\n",
    "import pymongo\n",
    "import matplotlib.pyplot as plt\n",
    "import re\n",
    "import pandas as pd"
   ],
   "outputs": [],
   "execution_count": 2
  },
  {
   "metadata": {},
   "cell_type": "markdown",
   "source": "",
   "id": "43911dfd73f2d38c"
  },
  {
   "metadata": {},
   "cell_type": "markdown",
   "source": "BookInfo class connects to the database, goes over each link, and adds the information on the database.",
   "id": "344c609428c2f2e1"
  },
  {
   "metadata": {
    "ExecuteTime": {
     "end_time": "2024-05-26T23:05:06.659127Z",
     "start_time": "2024-05-26T23:05:06.652375Z"
    }
   },
   "cell_type": "code",
   "source": [
    "blue = \"https://www.goodreads.com/list/show/15500.In_Love_With_BLUE_Covers_\"\n",
    "red = \"https://www.goodreads.com/list/show/2959.Seeing_Red\"\n",
    "black = \"https://www.goodreads.com/list/show/2973.Great_Books_with_BLACK_Covers\"\n",
    "yellow = \"https://www.goodreads.com/list/show/2784.Yellowest_Books_Ever\"\n",
    "green = \"https://www.goodreads.com/list/show/2948.Greenest_Books_Ever\"\n",
    "white = \"https://www.goodreads.com/list/show/3056.White_as_the_Driven_Snow\"\n",
    "pink = \"https://www.goodreads.com/list/show/2958.In_the_Pink\" \n",
    "purple = \"https://www.goodreads.com/list/show/2922.The_Color_Purple\"\n",
    "gray = \"https://www.goodreads.com/list/show/2977.Grey_Daze\""
   ],
   "id": "d4fb48d330513324",
   "outputs": [],
   "execution_count": 32
  },
  {
   "metadata": {
    "ExecuteTime": {
     "end_time": "2024-05-26T23:17:49.402566Z",
     "start_time": "2024-05-26T23:17:49.376251Z"
    }
   },
   "cell_type": "code",
   "source": [
    "class BookInfo():\n",
    "    def __init__(self):\n",
    "        self.client = pymongo.MongoClient(\"mongodb://localhost:27017\")\n",
    "        self.db = self.client[\"app\"]\n",
    "        self.collection = self.db[\"books\"]\n",
    "        self.url = [blue, red, black, yellow, green, white, pink, purple, gray]\n",
    "        self.covercolor = [\"blue\", \"red\", \"black\", \"yellow\", \"green\", \"white\", \"pink\", \"purple\", \"gray\"]\n",
    "        \n",
    "        for r,s in zip(self.url, self.covercolor):\n",
    "            self.url = r\n",
    "            self.covercolor = s\n",
    "\n",
    "            self.html = requests.get(self.url).content\n",
    "            self.soup = BeautifulSoup(self.html, \"html.parser\")\n",
    "            \n",
    "            \n",
    "            \n",
    "            if requests.get(self.url).status_code == 200:\n",
    "                html = self.html.content\n",
    "                soup = BeautifulSoup(html, \"html.parser\")\n",
    "                print(soup.prettify()[:2000])  # Print the first 2000 characters of the HTML\n",
    "            else:\n",
    "                print(f\"Failed to fetch data from: {self.url} with status code {requests.get(self.url).status_code}\") \n",
    "                \n",
    "            self.getbook()\n",
    "\n",
    "    def getbook(self):\n",
    "    \n",
    "        i = 0\n",
    "        while 100 > i:\n",
    "            self.bookno = self.collection.count_documents({})\n",
    "            self.title = self.soup.find_all('a', class_='bookTitle')[i].get_text()\n",
    "            self.author = self.soup.find_all('a', class_='authorName')[i].get_text()\n",
    "            rateinfo = self.soup.find_all('span',class_='minirating')[i].get_text()\n",
    "            self.ratedfor = int(re.split(\" \", rateinfo)[5].replace(\",\",\"\"))\n",
    "            self.rate = float(re.split(\" \", rateinfo)[1])\n",
    "            self.createTable()\n",
    "            i+=1\n",
    "    \n",
    "    def createTable(self):\n",
    "        \n",
    "        book = {\n",
    "            \"_id\" : self.bookno + 1,\n",
    "            \"name\" : self.title,\n",
    "            \"author\" : self.author,\n",
    "            \"ratedfor\" : self.ratedfor,\n",
    "            \"rate\" : self.rate,\n",
    "            \"cover\" : self.covercolor\n",
    "            }\n",
    "        self.collection.insert_one(book)   "
   ],
   "id": "1c11d8b4529e1bbb",
   "outputs": [],
   "execution_count": 49
  },
  {
   "metadata": {},
   "cell_type": "markdown",
   "source": [
    "Compare class creates a pandas DataFrame from the MongoDB collection, groups the data by cover color and calculates the mean rating and rated-for number for each group.\n",
    "Then, it visualizes the data using matplotlib, creating two bar charts: one for rating vs. color and another for rated-for number vs. color."
   ],
   "id": "e1758faba4c8af59"
  },
  {
   "metadata": {
    "ExecuteTime": {
     "end_time": "2024-05-26T23:17:49.887406Z",
     "start_time": "2024-05-26T23:17:49.873568Z"
    }
   },
   "cell_type": "code",
   "source": [
    "class Compare():\n",
    "    def __init__(self):\n",
    "        self.client = pymongo.MongoClient(\"mongodb://localhost:27017\")\n",
    "        self.db = self.client[\"app\"]\n",
    "        self.collection = self.db[\"books\"]\n",
    "        self.organize()\n",
    "\n",
    "    def organize(self):\n",
    "        bookspd = pd.DataFrame(self.collection.find({}))\n",
    "        self.covergrouped = bookspd.groupby([\"cover\"])\n",
    "        self.coverratemean = pd.Series(self.covergrouped.mean()[\"rate\"])\n",
    "        self.coverratedformean = pd.Series(self.covergrouped.mean()[\"ratedfor\"])\n",
    "        self.covergroupedcolors = self.covergrouped.groups.keys()\n",
    "\n",
    "        self.visualise()\n",
    "\n",
    "    def visualise(self):\n",
    "        covervsrate = plt.bar(self.covergroupedcolors, self.coverratemean, label = \"colors\", width=0.8)\n",
    "        plt.show()\n",
    "        covervsratedfor = plt.bar(self.covergroupedcolors, self.coverratedformean, label = \"colors\", width=0.8)\n",
    "        plt.show()\n",
    "\n",
    "        '''\n",
    "        This function plots the graphs rate vs color and rated for number vs color. The result is that black colored books are the most rated,\n",
    "        whereas green colored books have the highest rate with blue following.\n",
    "        '''\n",
    "        \n",
    "            "
   ],
   "id": "2b823a6a1148bb26",
   "outputs": [],
   "execution_count": 50
  },
  {
   "metadata": {},
   "cell_type": "markdown",
   "source": "Finally, we call the classes and observe the results.",
   "id": "e5645a154e0ec272"
  },
  {
   "metadata": {},
   "cell_type": "code",
   "source": [
    "BookInfo()\n",
    "Compare()"
   ],
   "id": "290ceb6855ed39a7",
   "outputs": [],
   "execution_count": null
  },
  {
   "metadata": {},
   "cell_type": "markdown",
   "source": "Note: this code was written over two years ago. As the website blocks automatic access, it was unable to retrieve data.",
   "id": "2573d509c9409d18"
  }
 ],
 "metadata": {
  "kernelspec": {
   "display_name": "Python 3",
   "language": "python",
   "name": "python3"
  },
  "language_info": {
   "codemirror_mode": {
    "name": "ipython",
    "version": 2
   },
   "file_extension": ".py",
   "mimetype": "text/x-python",
   "name": "python",
   "nbconvert_exporter": "python",
   "pygments_lexer": "ipython2",
   "version": "2.7.6"
  }
 },
 "nbformat": 4,
 "nbformat_minor": 5
}
