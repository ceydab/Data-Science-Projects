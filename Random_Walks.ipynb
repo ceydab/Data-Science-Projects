{
  "nbformat": 4,
  "nbformat_minor": 0,
  "metadata": {
    "colab": {
      "provenance": [],
      "authorship_tag": "ABX9TyMBUWgYTuqb3TpoOG7vT1Fz"
    },
    "kernelspec": {
      "name": "python3",
      "display_name": "Python 3"
    },
    "language_info": {
      "name": "python"
    }
  },
  "cells": [
    {
      "cell_type": "markdown",
      "source": [
        "#Random Walks\n",
        "This notebook is adapted from Wes Mckinley's Python for Data Analysis. This is a simple application of random and numpy libraries to create random walks and obtain relevant information on the walks.\n",
        "\n",
        "In the first application, we generate a random walk using for loop.\n",
        "\n",
        "In the second application, we generate a random walk using numpy array.\n",
        "\n",
        "In the third application, we generate multiple walks using the same steps as the second application.\n",
        "\n",
        "For each walk, relevant information is printed."
      ],
      "metadata": {
        "id": "X-BsvrcZdpsd"
      }
    },
    {
      "cell_type": "code",
      "source": [
        "import random\n",
        "import numpy as np"
      ],
      "metadata": {
        "id": "4jukii0YcbGE"
      },
      "execution_count": 2,
      "outputs": []
    },
    {
      "cell_type": "code",
      "execution_count": 3,
      "metadata": {
        "colab": {
          "base_uri": "https://localhost:8080/"
        },
        "id": "YGl4pzdycGHg",
        "outputId": "b35f7ae6-7c3d-4180-81e9-666840a916f9"
      },
      "outputs": [
        {
          "output_type": "stream",
          "name": "stdout",
          "text": [
            "[0, 1, 0, 1, 0, -1, 0, -1, 0, -1, 0, -1, -2, -1, 0, 1, 0, -1, 0, -1, -2, -1, 0, 1, 2, 3, 4, 3, 4, 5, 4, 5, 6, 5, 4, 5, 6, 5, 6, 5, 4, 5, 4, 3, 4, 5, 4, 5, 4, 3, 4, 3, 4, 3, 2, 1, 0, 1, 2, 1, 0, 1, 2, 1, 0, 1, 2, 3, 2, 1, 2, 3, 2, 1, 2, 1, 0, 1, 2, 1, 2, 1, 2, 3, 2, 3, 4, 5, 6, 7, 6, 5, 4, 5, 6, 7, 6, 7, 8, 7, 6, 5, 6, 7, 6, 5, 4, 3, 2, 1, 2, 1, 0, -1, 0, -1, -2, -3, -2, -3, -2, -1, -2, -3, -4, -3, -2, -1, -2, -3, -4, -3, -2, -3, -2, -3, -2, -1, 0, 1, 0, 1, 2, 3, 4, 3, 4, 3, 4, 3, 4, 3, 2, 1, 2, 1, 0, 1, 2, 1, 2, 3, 4, 5, 4, 5, 4, 3, 4, 5, 4, 3, 2, 1, 2, 3, 2, 1, 0, -1, 0, -1, -2, -3, -2, -3, -2, -3, -2, -3, -2, -1, 0, -1, 0, 1, 0, 1, 0, -1, 0, 1, 0, -1, 0, 1, 2, 1, 0, -1, -2, -3, -4, -5, -6, -7, -8, -7, -8, -7, -8, -9, -8, -7, -8, -9, -10, -11, -10, -9, -8, -9, -10, -9, -8, -7, -6, -5, -6, -5, -6, -5, -6, -5, -6, -7, -6, -7, -6, -5, -4, -5, -4, -5, -6, -5, -4, -3, -2, -1, -2, -1, 0, -1, 0, -1, 0, -1, 0, 1, 0, -1, 0, -1, 0, -1, -2, -1, 0, -1, 0, -1, -2, -1, -2, -1, -2, -1, 0, 1, 0, 1, 0, 1, 0, 1, 0, 1, 2, 3, 4, 3, 2, 1, 0, -1, 0, -1, 0, 1, 2, 1, 0, 1, 2, 3, 4, 5, 4, 3, 4, 5, 6, 7, 6, 5, 6, 7, 6, 7, 6, 7, 8, 7, 6, 5, 4, 3, 4, 3, 4, 3, 2, 1, 2, 3, 4, 5, 6, 7, 8, 9, 10, 9, 10, 11, 12, 11, 12, 11, 12, 11, 10, 9, 8, 7, 8, 9, 8, 7, 6, 7, 6, 7, 6, 7, 8, 7, 8, 9, 8, 7, 6, 7, 8, 7, 6, 7, 6, 7, 6, 7, 6, 7, 8, 9, 10, 9, 10, 11, 12, 13, 14, 13, 14, 13, 14, 13, 14, 15, 14, 15, 16, 17, 18, 17, 18, 19, 18, 17, 16, 15, 14, 13, 12, 11, 10, 11, 12, 11, 10, 9, 10, 9, 10, 11, 10, 9, 8, 9, 8, 7, 6, 7, 6, 5, 6, 5, 4, 5, 6, 5, 4, 3, 4, 3, 2, 1, 2, 1, 2, 3, 4, 5, 4, 5, 4, 5, 6, 5, 4, 3, 4, 5, 6, 7, 6, 5, 4, 5, 4, 5, 6, 5, 4, 5, 6, 7, 8, 9, 10, 9, 8, 9, 8, 9, 10, 11, 10, 11, 10, 11, 10, 9, 10, 9, 10, 11, 12, 11, 12, 11, 12, 13, 14, 13, 12, 13, 14, 15, 14, 13, 14, 15, 16, 17, 18, 17, 16, 17, 16, 15, 16, 15, 16, 15, 16, 17, 18, 17, 18, 19, 18, 17, 18, 17, 18, 19, 20, 21, 22, 23, 24, 25, 24, 23, 24, 25, 24, 25, 26, 27, 28, 29, 30, 31, 32, 31, 30, 31, 32, 33, 34, 35, 34, 33, 32, 31, 32, 33, 32, 31, 32, 33, 34, 35, 34, 35, 36, 35, 34, 33, 32, 33, 32, 33, 34, 33, 34, 35, 36, 35, 34, 35, 36, 35, 34, 33, 34, 33, 34, 35, 36, 35, 36, 37, 36, 37, 38, 39, 38, 39, 38, 39, 38, 39, 40, 41, 40, 39, 40, 41, 40, 39, 38, 39, 40, 39, 40, 39, 40, 39, 40, 41, 42, 43, 44, 43, 44, 45, 46, 45, 44, 45, 46, 47, 46, 45, 44, 43, 42, 43, 44, 45, 46, 47, 46, 47, 48, 49, 48, 49, 48, 49, 48, 49, 50, 49, 50, 49, 50, 51, 52, 53, 54, 55, 54, 53, 54, 55, 54, 53, 54, 55, 54, 53, 52, 51, 52, 53, 52, 53, 52, 51, 52, 51, 50, 49, 48, 49, 48, 49, 48, 49, 50, 51, 50, 51, 50, 49, 48, 49, 48, 49, 50, 49, 50, 51, 52, 53, 54, 55, 56, 55, 54, 55, 56, 57, 58, 57, 58, 59, 58, 59, 58, 59, 60, 61, 60, 59, 58, 59, 60, 61, 62, 63, 62, 61, 62, 63, 62, 63, 64, 65, 66, 65, 66, 65, 66, 67, 66, 65, 64, 63, 62, 61, 62, 61, 62, 63, 64, 63, 64, 65, 66, 65, 64, 63, 62, 61, 60, 61, 62, 61, 60, 59, 60, 61, 62, 63, 62, 61, 62, 61, 60, 59, 60, 59, 60, 61, 60, 61, 60, 59, 60, 59, 60, 61, 62, 61, 60, 61, 60, 59, 58, 57, 58, 59, 60, 59, 60, 61, 60, 61, 60, 59, 60, 61, 62, 63, 64, 63, 64, 63, 62, 63, 64, 63, 62, 63, 62, 63, 62, 63, 62, 63, 64, 63, 64, 63, 64, 65, 64, 63, 64, 65, 64, 65, 64, 65, 66, 67, 66, 65, 66, 65, 64, 63, 64, 65, 64, 63, 62, 61, 62, 63, 62, 61, 62, 61, 60, 61, 62, 61, 60, 59, 58, 57, 56, 55, 56, 55, 54, 55, 54, 53, 52, 53, 52, 53, 54, 53, 54, 53, 54, 53, 54, 55, 56, 55, 56, 57, 58, 57, 56, 57, 58, 59, 58, 57, 56, 57, 58, 57, 56, 55, 54, 53, 54, 53, 54, 53, 54, 55, 56, 55, 54, 53, 54, 55, 54, 55, 54, 53, 54, 53, 52, 51, 50, 49, 48, 47, 48, 49, 50, 49, 50, 51, 50, 49, 48, 47, 48, 47, 48, 49, 48, 49, 50, 51, 52, 53, 54, 55, 54, 55, 54, 55, 56, 57, 56, 57, 58, 59, 58, 59, 58, 57, 56, 57, 58]\n"
          ]
        }
      ],
      "source": [
        "#Initialize the position to 0\n",
        "position =0\n",
        "\n",
        "#Create a list to store the walk based on the position\n",
        "walk = [position]\n",
        "\n",
        "#Define the number of steps\n",
        "steps = 1000\n",
        "\n",
        "#Perform the random walk\n",
        "for i in range(steps):\n",
        "    step = 1 if random.randint(0,1) else -1 #generates a random step\n",
        "    position += step #updates position based on the step\n",
        "    walk.append(position) #appends new position to the walk\n",
        "\n",
        "#A random walk of 1000 steps is created.\n",
        "\n",
        "print(walk)"
      ]
    },
    {
      "cell_type": "code",
      "source": [
        "#Define number of steps\n",
        "nsteps = 1000\n",
        "\n",
        "#Define an array of binary draws of 0 or 1\n",
        "draws = np.random.randint(0,2, size=nsteps)\n",
        "\n",
        "#Convert the draws to steps by substituing -1 for 0 and keeping 1 as 1\n",
        "steps = np.where(draws>0,1,-1)\n",
        "\n",
        "#Cumulative sum of the steps\n",
        "walk = steps.cumsum()\n",
        "\n",
        "#Min and max values of the walk\n",
        "print(\"min position of the walk: \", walk.min())\n",
        "print(\"max position of the walk: \", walk.max())\n",
        "\n",
        "#Find the position when ten steps are taken\n",
        "step10_position = (np.abs(walk)>=10).argmax()\n",
        "print(\"Position after 10 steps: \", step10_position)"
      ],
      "metadata": {
        "colab": {
          "base_uri": "https://localhost:8080/"
        },
        "id": "WxzYmRlEenoc",
        "outputId": "c949f322-aa16-4b38-e25d-fbba1f67dbc6"
      },
      "execution_count": 5,
      "outputs": [
        {
          "output_type": "stream",
          "name": "stdout",
          "text": [
            "min position of the walk:  -8\n",
            "max position of the walk:  28\n",
            "Position after 10 steps:  33\n"
          ]
        }
      ]
    },
    {
      "cell_type": "code",
      "source": [
        "#Define number of walks and number of steps\n",
        "nwalks, nsteps = 5000, 1000\n",
        "\n",
        "# Generate an array of random draws (of binary values) for each walk\n",
        "draws = np.random.randint(0,2,size = (nwalks, nsteps))\n",
        "\n",
        "#Convert the draws to steps by substituing -1 for 0 and keeping 1 as 1\n",
        "steps = np.where(draws > 0,1,-1)\n",
        "\n",
        "#Record the cumulative sum for each walk\n",
        "walks = steps.cumsum(1)\n",
        "\n",
        "#Count the walks that have gone further than 30 steps from the initial position\n",
        "hits30 = (np.abs(walks)>= 30).any(1)\n",
        "sum_hit30 = hits30.sum() # number of trues\n",
        "print(f\"Number of walks that passed over 30 steps: {sum_hit30}\")\n",
        "\n",
        "#Find at what step the walk crossed 30 steps from the initial position\n",
        "crossing_times = (np.abs(walks[hits30])>=30).argmax(1)\n",
        "print(f\"Minimum crossing time of 30 steps: {crossing_times.min()}\")\n",
        "print(f\"Maximum crossing time of 30 steps: {crossing_times.max()}\")\n",
        "\n",
        "#Calculate the mean of the crosses\n",
        "cross30_mean = crossing_times.mean()\n",
        "print(f\"Mean crossing time of 30 steps: {cross30_mean}\")"
      ],
      "metadata": {
        "colab": {
          "base_uri": "https://localhost:8080/"
        },
        "id": "FBn3_jdjf8Cm",
        "outputId": "fdaeb9bd-789d-4fcc-f6e1-c3ea9c21a585"
      },
      "execution_count": 8,
      "outputs": [
        {
          "output_type": "stream",
          "name": "stdout",
          "text": [
            "Number of walks that passed over 30 steps: 3344\n",
            "Minimum crossing time of 30 steps: 71\n",
            "Maximum crossing time of 30 steps: 999\n",
            "Mean crossing time of 30 steps: 504.7476076555024\n"
          ]
        }
      ]
    }
  ]
}