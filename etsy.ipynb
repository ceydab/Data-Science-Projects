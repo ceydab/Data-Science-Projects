{
 "cells": [
  {
   "metadata": {},
   "cell_type": "markdown",
   "source": [
    "# Etsy Data\n",
    "This project involves using selenium to web scrap data, and create a table.\n",
    "\n",
    "We start by importing the necessary libraries.\n",
    "\n",
    "Then we create productTable class, which first connects to the database (in this case mongodb), provides the user to choose the function to perform, creates a table if that is chosen, shows a product if that is chosen, or lists all products."
   ],
   "id": "c99dac5d0d6cd9e5"
  },
  {
   "cell_type": "code",
   "id": "initial_id",
   "metadata": {
    "collapsed": true,
    "ExecuteTime": {
     "end_time": "2024-05-27T06:53:16.338232Z",
     "start_time": "2024-05-27T06:53:16.330593Z"
    }
   },
   "source": [
    "from selenium import webdriver\n",
    "import time\n",
    "import pymongo\n",
    "import requests\n",
    "from bson.objectid import ObjectId"
   ],
   "outputs": [],
   "execution_count": 3
  },
  {
   "metadata": {
    "ExecuteTime": {
     "end_time": "2024-05-27T06:57:55.810400Z",
     "start_time": "2024-05-27T06:57:49.479811Z"
    }
   },
   "cell_type": "code",
   "source": [
    "class productTable():\n",
    "    def __init__(self):\n",
    "        print('x')\n",
    "        self.client = pymongo.MongoClient(\"mongodb://localhost:27017\")\n",
    "        self.db = self.client[\"app\"]\n",
    "        self.collection = self.db[\"products\"]\n",
    "        self.listing = self.collection.find({\"from\":\"etsy\"})\n",
    "        self.count = self.collection.count_documents({\"from\":\"etsy\"})\n",
    "        \n",
    "        self.choice()\n",
    "    \n",
    "    def choice(self):\n",
    "        print(\"1- Add new product\\n\"  \"2- Show a product\\n\" \"3- List all products\")\n",
    "        choice = input(\"What do you want to do?:\")\n",
    "\n",
    "        if choice == '1':\n",
    "            self.createTable()\n",
    "        elif choice =='2':\n",
    "            self.getProductbyId()\n",
    "        elif choice =='3':\n",
    "            self.listProducts()\n",
    "        else:\n",
    "            print(\"No such choice. Choose again\")\n",
    "            self.choice()\n",
    "\n",
    "    def createTable(self):\n",
    "        url = input(\"Link to the product: \")\n",
    "        driver = webdriver.Chrome()\n",
    "        driver.get(url)\n",
    "        time.sleep(2)\n",
    "        productTitle = driver.title\n",
    "        \n",
    "        productPrice = driver.find_element('xpath',\"//*[@id='listing-page-cart']/div[2]/div/div/div/p/text()\" ).text\n",
    "        productImage = driver.find_element('xpath',\"//*[@id='photos']/div[3]/div/ul/li/img\").get_attribute(\"src\")\n",
    "        time.sleep(2)\n",
    "        driver.close()\n",
    "        \n",
    "        product = {\n",
    "            \"_id\" : self.count +1,\n",
    "            \"name\" : productTitle,\n",
    "            \"image\" : productImage,\n",
    "            \"price\" : productPrice,\n",
    "            \"from\" : \"etsy\"\n",
    "        }\n",
    "        \n",
    "        result = self.collection.insert_one(product)\n",
    "        insertedProductId = result.inserted_id\n",
    "\n",
    "        findInsertedProduct = self.collection.find({\"_id\" : ObjectId(insertedProductId)})\n",
    "        for i in findInsertedProduct:\n",
    "            \n",
    "            print(i)\n",
    "        \n",
    "    \n",
    "    def getProductbyId(self):\n",
    "        desiredId = input(\"Enter Id: \")\n",
    "        result = self.collection.find({\"_id\" : int(desiredId)})\n",
    "        for i in result:\n",
    "            print(i)\n",
    "\n",
    "\n",
    "    def listProducts(self):\n",
    "        result = self.collection.find()\n",
    "        for i in result:\n",
    "            print([i])\n",
    "\n",
    "\n",
    "productTable()"
   ],
   "id": "8fe2f8cb9f9053dd",
   "outputs": [
    {
     "name": "stdout",
     "output_type": "stream",
     "text": [
      "x\n",
      "1- Add new product\n",
      "2- Show a product\n",
      "3- List all products\n",
      "{'_id': 1, 'name': 'FQ Pack of 5 Different Cutest Little Elephant in Blue 18 - Etsy Turkey', 'image': 'https://i.etsystatic.com/26992806/r/il/4164ba/3960713286/il_794xN.3960713286_6tpl.jpg', 'price': '207.26 TL', 'from': 'etsy'}\n"
     ]
    },
    {
     "data": {
      "text/plain": [
       "<__main__.productTable at 0x2c60d4551d0>"
      ]
     },
     "execution_count": 6,
     "metadata": {},
     "output_type": "execute_result"
    }
   ],
   "execution_count": 6
  },
  {
   "metadata": {},
   "cell_type": "markdown",
   "source": "Note, that this project was written in 2021. The website now has protection against scraping.",
   "id": "971fa1c0482b1046"
  }
 ],
 "metadata": {
  "kernelspec": {
   "display_name": "Python 3",
   "language": "python",
   "name": "python3"
  },
  "language_info": {
   "codemirror_mode": {
    "name": "ipython",
    "version": 2
   },
   "file_extension": ".py",
   "mimetype": "text/x-python",
   "name": "python",
   "nbconvert_exporter": "python",
   "pygments_lexer": "ipython2",
   "version": "2.7.6"
  }
 },
 "nbformat": 4,
 "nbformat_minor": 5
}
