{
 "nbformat": 4,
 "nbformat_minor": 0,
 "metadata": {
  "colab": {
   "provenance": []
  },
  "kernelspec": {
   "name": "python3",
   "display_name": "Python 3 (ipykernel)",
   "language": "python"
  },
  "language_info": {
   "name": "python"
  }
 },
 "cells": [
  {
   "cell_type": "markdown",
   "source": [
    "## **Hypothesis Testing**\n",
    "\n",
    "This is a simple project to get data from a csv file and convert it into a table in postgresql, then use the table for upper tail hypothesis test.\n",
    "\n",
    "The data is extracted from https://www.kaggle.com/datasets/justinas/nba-players-data?select=all_seasons.csv and adapted for our needs.\n",
    "\n",
    "We want to see if our player will play for more than half of the games in the season or not. There are 90 games in a season, so we will use 45 as the mean value.\n",
    "\n",
    "The null hypothesis adapted is H: u<=45 against H: u>45 with alpha level 0.05"
   ],
   "metadata": {
    "id": "WaPo9kX138Kt"
   }
  },
  {
   "metadata": {
    "ExecuteTime": {
     "end_time": "2024-05-23T10:07:16.186667Z",
     "start_time": "2024-05-23T10:07:16.175366Z"
    }
   },
   "cell_type": "code",
   "source": [
    "import psycopg2\n",
    "import pandas as pd\n",
    "import scipy.stats as stats\n",
    "import math\n"
   ],
   "outputs": [],
   "execution_count": 3
  },
  {
   "metadata": {},
   "cell_type": "markdown",
   "source": "Connect to PostgreSQL on the local server"
  },
  {
   "metadata": {
    "ExecuteTime": {
     "end_time": "2024-05-23T10:14:45.775592Z",
     "start_time": "2024-05-23T10:14:45.687501Z"
    }
   },
   "cell_type": "code",
   "source": [
    "con = psycopg2.connect(\n",
    "    host = \"localhost\",\n",
    "    database = \"players\",\n",
    "    port = \"5432\",\n",
    "    user = \"postgres\",\n",
    "    password = \"1536\"\n",
    ")\n",
    "con.autocommit = True\n",
    "cur = con.cursor()"
   ],
   "outputs": [],
   "execution_count": 10
  },
  {
   "metadata": {},
   "cell_type": "markdown",
   "source": "Import the dataset, and transfer it into a table in postgresql."
  },
  {
   "metadata": {
    "ExecuteTime": {
     "end_time": "2024-05-23T10:14:47.901260Z",
     "start_time": "2024-05-23T10:14:47.757789Z"
    }
   },
   "cell_type": "code",
   "source": [
    "data =  pd.read_csv(\"playerstats.csv\")\n",
    "df = pd.DataFrame(data)\n",
    "cur.execute(\"CREATE TABLE players (id serial PRIMARY KEY, name varchar, games integer)\")\n",
    "\n",
    "for row in df.itertuples():\n",
    "    cur.execute(\"INSERT INTO players (name, games)  VALUES (%s,%s)\", (row.plname, row.gp))"
   ],
   "outputs": [],
   "execution_count": 11
  },
  {
   "metadata": {},
   "cell_type": "markdown",
   "source": [
    "The functions below will obtain values necessary for hypothesis testing.\n",
    "\n",
    "meanofgames() obtains the mean number of games played by all players.\n",
    "\n",
    "stddev() obtains the standard deviation of the number of games played by all players.\n",
    "\n",
    "samplesize() obtains the sample size of the number of players "
   ]
  },
  {
   "metadata": {
    "ExecuteTime": {
     "end_time": "2024-05-23T10:22:00.373020Z",
     "start_time": "2024-05-23T10:22:00.364401Z"
    }
   },
   "cell_type": "code",
   "source": [
    "def meanofgames():\n",
    "    cur.execute(\"SELECT AVG(GAMES) FROM PLAYERS;\")\n",
    "    for mean in cur.fetchone():\n",
    "        return mean\n",
    "    \n",
    "def stddev():\n",
    "    cur.execute(\"SELECT STDDEV(GAMES) FROM PLAYERS\")\n",
    "    for stddev in cur.fetchone():\n",
    "        return stddev\n",
    "\n",
    "def samplesize():\n",
    "    cur.execute(\" SELECT COUNT(GAMES) FROM PLAYERS\")\n",
    "    for size in cur.fetchone():\n",
    "        return size"
   ],
   "outputs": [],
   "execution_count": 16
  },
  {
   "metadata": {},
   "cell_type": "markdown",
   "source": [
    "90 games are played in one season. We want to see the chances a player will play...We will define 45 as the mean value for our hypothesis test. \n",
    "\n",
    "As we are performing a one-tail test (upper tail), we define the z-value as 0.95\n",
    "\n",
    "Then we obtain the critical value for the hypothesis test based on z-value, standard deviation, and sample size."
   ]
  },
  {
   "metadata": {
    "ExecuteTime": {
     "end_time": "2024-05-23T10:23:33.404126Z",
     "start_time": "2024-05-23T10:23:33.394707Z"
    }
   },
   "cell_type": "code",
   "source": [
    "testmean = 45\n",
    "zvalue = stats.norm.ppf(0.95)\n",
    "x_crit = zvalue*int(stddev())/math.sqrt(samplesize()) +45"
   ],
   "outputs": [],
   "execution_count": 18
  },
  {
   "metadata": {},
   "cell_type": "markdown",
   "source": [
    "Lastly, we use an if-else statement to finalize the hypothesis test by comparing the mean number of games played by the players to the critical value and prints a message indicating whether to reject or fail to reject the null hypothesis. \n",
    "\n",
    "We finalize by closing the connection to database."
   ]
  },
  {
   "metadata": {
    "ExecuteTime": {
     "end_time": "2024-05-23T10:23:36.587919Z",
     "start_time": "2024-05-23T10:23:36.577153Z"
    }
   },
   "cell_type": "code",
   "source": [
    "if meanofgames() > x_crit:\n",
    "    print(\"Reject the null hypothesis\")\n",
    "else:\n",
    "    print(\"There isnt sufficient evidence to reject the null hypothesis\")\n",
    "\n",
    "\n",
    "\n",
    "con.close()"
   ],
   "outputs": [
    {
     "name": "stdout",
     "output_type": "stream",
     "text": [
      "There isnt sufficient evidence to reject the null hypothesis\n"
     ]
    }
   ],
   "execution_count": 19
  }
 ]
}
